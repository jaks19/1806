{
  "nbformat": 4,
  "nbformat_minor": 0,
  "metadata": {
    "colab": {
      "name": "swarna_python_tutorial_june_15.ipynb",
      "provenance": [],
      "collapsed_sections": [],
      "include_colab_link": true
    },
    "kernelspec": {
      "name": "python3",
      "display_name": "Python 3"
    }
  },
  "cells": [
    {
      "cell_type": "markdown",
      "metadata": {
        "id": "view-in-github",
        "colab_type": "text"
      },
      "source": [
        "<a href=\"https://colab.research.google.com/github/jaks19/1806/blob/master/swarna_python_tutorial_june_15.ipynb\" target=\"_parent\"><img src=\"https://colab.research.google.com/assets/colab-badge.svg\" alt=\"Open In Colab\"/></a>"
      ]
    },
    {
      "cell_type": "markdown",
      "metadata": {
        "id": "Z5gJTulD9MUK",
        "colab_type": "text"
      },
      "source": [
        "# Python Crash Course\n",
        "\n",
        "### Basics and Data Types\n",
        "\n",
        "**Basics**\n",
        "* Comments\n",
        "* Variables and Data types (int, float, str, bool, list, dict, general objects)\n",
        "\n",
        "**Containers (and expanding on container data types)**\n",
        "* Lists\n",
        "* Dictionaries\n",
        "* Conceptual extension to Object-oriented programming (classes, objects, ...)\n",
        "\n",
        "**Logic (and expanding on bool data type)**\n",
        "* Booleans\n",
        "* if else\n",
        "* Loops (for, while)"
      ]
    },
    {
      "cell_type": "markdown",
      "metadata": {
        "id": "ZR8TFQDhe-En",
        "colab_type": "text"
      },
      "source": [
        "### Modularity\n",
        "**Coding in independent blocks**\n",
        "* Functions / methods\n",
        "* Compositionality with methods\n",
        "\n",
        "**Classes**"
      ]
    },
    {
      "cell_type": "code",
      "metadata": {
        "id": "qgyhW3TjAYfO",
        "colab_type": "code",
        "colab": {}
      },
      "source": [
        ""
      ],
      "execution_count": 0,
      "outputs": []
    },
    {
      "cell_type": "code",
      "metadata": {
        "id": "EjRnfJdBgTlD",
        "colab_type": "code",
        "colab": {}
      },
      "source": [
        ""
      ],
      "execution_count": 0,
      "outputs": []
    },
    {
      "cell_type": "code",
      "metadata": {
        "id": "4VCCEySggTng",
        "colab_type": "code",
        "colab": {}
      },
      "source": [
        ""
      ],
      "execution_count": 0,
      "outputs": []
    },
    {
      "cell_type": "code",
      "metadata": {
        "id": "s-1wWjxogTqJ",
        "colab_type": "code",
        "colab": {}
      },
      "source": [
        ""
      ],
      "execution_count": 0,
      "outputs": []
    },
    {
      "cell_type": "code",
      "metadata": {
        "id": "BviznhLQgTs2",
        "colab_type": "code",
        "colab": {}
      },
      "source": [
        ""
      ],
      "execution_count": 0,
      "outputs": []
    },
    {
      "cell_type": "code",
      "metadata": {
        "id": "UUkTO4n_gTvR",
        "colab_type": "code",
        "colab": {}
      },
      "source": [
        ""
      ],
      "execution_count": 0,
      "outputs": []
    },
    {
      "cell_type": "markdown",
      "metadata": {
        "id": "a6iJdugaAZJX",
        "colab_type": "text"
      },
      "source": [
        "**Comments**"
      ]
    },
    {
      "cell_type": "code",
      "metadata": {
        "id": "Pu5aIsmZAZta",
        "colab_type": "code",
        "outputId": "df773878-3322-4a13-bd0a-193ac7f71aad",
        "colab": {
          "base_uri": "https://localhost:8080/",
          "height": 69
        }
      },
      "source": [
        "# setting variables\n",
        "\n",
        "a = 80 \n",
        "print(a) \n",
        "\n",
        "b = 30\n",
        "print(b)\n",
        "\n",
        "c = 100\n",
        "print(c)"
      ],
      "execution_count": 0,
      "outputs": [
        {
          "output_type": "stream",
          "text": [
            "80\n",
            "30\n",
            "100\n"
          ],
          "name": "stdout"
        }
      ]
    },
    {
      "cell_type": "markdown",
      "metadata": {
        "id": "Y6bfleSiEIjx",
        "colab_type": "text"
      },
      "source": [
        "**Variables and Data Types**"
      ]
    },
    {
      "cell_type": "markdown",
      "metadata": {
        "id": "7KV6HmmLI7Y7",
        "colab_type": "text"
      },
      "source": [
        "Names of variables cannot be purely numerical, and they cannot be key words."
      ]
    },
    {
      "cell_type": "code",
      "metadata": {
        "id": "00ybA7atH7y8",
        "colab_type": "code",
        "outputId": "6dc4ea8f-9cfc-4a82-eeba-6cf6d6f16f05",
        "colab": {
          "base_uri": "https://localhost:8080/",
          "height": 69
        }
      },
      "source": [
        "int_example = 80\n",
        "print('int_example is of type: ', type(int_example))\n",
        "\n",
        "# print(f'int_example is of type: {type(int_example)}')\n",
        "# print('int_example is of type: {type(int_example)}')\n",
        "\n",
        "float_example = 80.0\n",
        "print(type(float_example))\n",
        "\n",
        "str_example = 'hello'\n",
        "print(type(str_example))"
      ],
      "execution_count": 0,
      "outputs": [
        {
          "output_type": "stream",
          "text": [
            "int_example is of type:  <class 'int'>\n",
            "<class 'float'>\n",
            "<class 'str'>\n"
          ],
          "name": "stdout"
        }
      ]
    },
    {
      "cell_type": "code",
      "metadata": {
        "id": "dSJ3yIrxIZ16",
        "colab_type": "code",
        "outputId": "1252aece-9115-4758-f233-1494b3b244b1",
        "colab": {
          "base_uri": "https://localhost:8080/",
          "height": 52
        }
      },
      "source": [
        "bool_example_true = True\n",
        "print(type(bool_example_true))\n",
        "\n",
        "bool_example_false = False\n",
        "print(type(bool_example_false))"
      ],
      "execution_count": 0,
      "outputs": [
        {
          "output_type": "stream",
          "text": [
            "<class 'bool'>\n",
            "<class 'bool'>\n"
          ],
          "name": "stdout"
        }
      ]
    },
    {
      "cell_type": "markdown",
      "metadata": {
        "id": "ZK60Ho5QQ6Xm",
        "colab_type": "text"
      },
      "source": [
        "Containers are things that can carry many variables in them"
      ]
    },
    {
      "cell_type": "code",
      "metadata": {
        "id": "Pck4in_XJIt0",
        "colab_type": "code",
        "outputId": "b0023dc7-9fca-4047-a3a6-295922116b98",
        "colab": {
          "base_uri": "https://localhost:8080/",
          "height": 52
        }
      },
      "source": [
        "# list examples\n",
        "# a list is an ORDERED container of variables\n",
        "\n",
        "# Note:\n",
        "# values can be of any type\n",
        "\n",
        "l0 = []\n",
        "\n",
        "l1 = [33]\n",
        "l2 = [33, 44, 55]\n",
        "l3 = [33, 'apple', [22, 33333], [[[[[[[[[[[[[[[[[], 33]]]]]]], 66]]]]], 100]]]]]\n",
        "l4 = [33, \"apple\", True, 55.99999, int_example, l1]\n",
        "\n",
        "print(l0, l1, l2, l3, l4)\n",
        "print(type(l0), type(l1), type(l2), type(l3), type(l4))\n",
        "\n",
        "# print(*l4)"
      ],
      "execution_count": 0,
      "outputs": [
        {
          "output_type": "stream",
          "text": [
            "[] [33] [33, 44, 55] [33, 'apple', [22, 33333], [[[[[[[[[[[[[[[[[], 33]]]]]]], 66]]]]], 100]]]]] [33, 'apple', True, 55.99999, 80, [33]]\n",
            "<class 'list'> <class 'list'> <class 'list'> <class 'list'> <class 'list'>\n"
          ],
          "name": "stdout"
        }
      ]
    },
    {
      "cell_type": "code",
      "metadata": {
        "id": "_AqJqQknXwSO",
        "colab_type": "code",
        "colab": {
          "base_uri": "https://localhost:8080/",
          "height": 52
        },
        "outputId": "b952b695-9e53-4d92-b523-2caf38891137"
      },
      "source": [
        "# looking ahead to the list chapter:\n",
        "print(l4[3])\n",
        "print(l4[3:5])\n",
        "\n",
        "# many other indexing details to be seen, for now this only shows that indexing is possible"
      ],
      "execution_count": 57,
      "outputs": [
        {
          "output_type": "stream",
          "text": [
            "55.99999\n",
            "[55.99999, 80]\n"
          ],
          "name": "stdout"
        }
      ]
    },
    {
      "cell_type": "code",
      "metadata": {
        "id": "WMvGOT-3JK1T",
        "colab_type": "code",
        "outputId": "f423ae2f-a8f3-4e35-d7aa-524ac31631ce",
        "colab": {
          "base_uri": "https://localhost:8080/",
          "height": 86
        }
      },
      "source": [
        "# dictionary examples\n",
        "# a dict is a container of variables, indexed by their keys\n",
        "\n",
        "# Notes:\n",
        "# - keys have to be strings\n",
        "# - variables can be of any type\n",
        "\n",
        "d = {'item1': 33, 'xyxy': l4, 'dict1': {'cat': 0, 'dog': 1, 'rain': 'bad', 'dict': {'school': 'good'}}, 'list': [2, 3.1, 'number', True]}\n",
        "\n",
        "print(d)\n",
        "print(type(d))"
      ],
      "execution_count": 54,
      "outputs": [
        {
          "output_type": "stream",
          "text": [
            "{'item1': 33, 'xyxy': [33, 'apple', True, 55.99999, 80, [33]], 'dict1': {'cat': 0, 'dog': 1, 'rain': 'bad', 'dict': {'school': 'good'}}, 'list': [2, 3.1, 'number', True]}\n",
            "<class 'dict'>\n",
            "[33, 'apple', True, 55.99999, 80, [33]]\n",
            "{'cat': 0, 'dog': 1, 'rain': 'bad', 'dict': {'school': 'good'}}\n"
          ],
          "name": "stdout"
        }
      ]
    },
    {
      "cell_type": "code",
      "metadata": {
        "id": "LQWptUerXwyL",
        "colab_type": "code",
        "colab": {}
      },
      "source": [
        "# looking ahead to the dict chapter:\n",
        "\n",
        "# print(d['xyxy'])\n",
        "# print(d['dict1'])"
      ],
      "execution_count": 0,
      "outputs": []
    },
    {
      "cell_type": "code",
      "metadata": {
        "id": "BdyP2ao-JMFK",
        "colab_type": "code",
        "colab": {
          "base_uri": "https://localhost:8080/",
          "height": 69
        },
        "outputId": "16dd510c-f7c3-467c-a86d-7de9d0137f2c"
      },
      "source": [
        "# type: City\n",
        "# (Be able to make variables of this type)\n",
        "\n",
        "class Dog:\n",
        "  def __init__(self, name):\n",
        "    self.saved_name = name\n",
        "    return\n",
        "\n",
        "  def bark(self):\n",
        "    print('woof my name is: ', self.saved_name)\n",
        "    return\n",
        "\n",
        "d1 = Dog('dogAAAAA')\n",
        "d2 = Dog('fluffy')\n",
        "\n",
        "print(type(d1), type(d2))\n",
        "\n",
        "d1.bark()\n",
        "d2.bark()"
      ],
      "execution_count": 73,
      "outputs": [
        {
          "output_type": "stream",
          "text": [
            "<class '__main__.Dog'> <class '__main__.Dog'>\n",
            "woof my name is:  dogAAAAA\n",
            "woof my name is:  fluffy\n"
          ],
          "name": "stdout"
        }
      ]
    },
    {
      "cell_type": "code",
      "metadata": {
        "id": "Zr-kJb5ogWjE",
        "colab_type": "code",
        "colab": {}
      },
      "source": [
        ""
      ],
      "execution_count": 0,
      "outputs": []
    },
    {
      "cell_type": "code",
      "metadata": {
        "id": "o0C6uciHgXGE",
        "colab_type": "code",
        "colab": {}
      },
      "source": [
        ""
      ],
      "execution_count": 0,
      "outputs": []
    },
    {
      "cell_type": "markdown",
      "metadata": {
        "id": "xekhRRjwgXls",
        "colab_type": "text"
      },
      "source": [
        "**List**"
      ]
    },
    {
      "cell_type": "code",
      "metadata": {
        "id": "tFLMekwPgaAd",
        "colab_type": "code",
        "colab": {}
      },
      "source": [
        "### creating\n",
        "lst = [33, \"apple\", True, 55.99999, 9999, 444]"
      ],
      "execution_count": 0,
      "outputs": []
    },
    {
      "cell_type": "code",
      "metadata": {
        "id": "4wJiM_dQgegu",
        "colab_type": "code",
        "colab": {
          "base_uri": "https://localhost:8080/",
          "height": 138
        },
        "outputId": "6290d442-3cec-4134-c93f-d706d1de2e3c"
      },
      "source": [
        "### indexing (basics)\n",
        "print('basics')\n",
        "print(lst[0])\n",
        "print(lst[-1])\n",
        "print(lst[1:4])\n",
        "\n",
        "### indexing (fancy)\n",
        "print('fancy')\n",
        "# last two in list order [9999, 444]\n",
        "print(lst[-2:])\n",
        "\n",
        "# last three, in reverse list order [444, 9999, 55.99999]\n",
        "lst_rev = list(reversed(lst))\n",
        "# print(lst_rev)\n",
        "print(lst_rev[0:3])"
      ],
      "execution_count": 94,
      "outputs": [
        {
          "output_type": "stream",
          "text": [
            "basics\n",
            "33\n",
            "444\n",
            "['apple', True, 55.99999]\n",
            "fancy\n",
            "[9999, 444]\n",
            "[444, 9999, 55.99999]\n"
          ],
          "name": "stdout"
        }
      ]
    },
    {
      "cell_type": "code",
      "metadata": {
        "id": "n6ytmnymhP7n",
        "colab_type": "code",
        "colab": {
          "base_uri": "https://localhost:8080/",
          "height": 35
        },
        "outputId": "654fe259-820c-42a4-9ea6-e5f26ed63423"
      },
      "source": [
        "### appending\n",
        "lst.append(000000000)\n",
        "lst.append('hahahahahaha')\n",
        "print(lst)"
      ],
      "execution_count": 96,
      "outputs": [
        {
          "output_type": "stream",
          "text": [
            "[33, 'apple', True, 55.99999, 9999, 444, 0, 'hahahahahaha', 0, 'hahahahahaha']\n"
          ],
          "name": "stdout"
        }
      ]
    },
    {
      "cell_type": "code",
      "metadata": {
        "id": "wBg_9L0PjmLp",
        "colab_type": "code",
        "colab": {
          "base_uri": "https://localhost:8080/",
          "height": 155
        },
        "outputId": "10a0ecd6-a974-4850-e2f2-11149b184eec"
      },
      "source": [
        "### concatenating\n",
        "print(lst)\n",
        "\n",
        "# lst-lst-lst\n",
        "print(lst+lst+lst)\n",
        "\n",
        "# lst-[1,2,3,4,5]\n",
        "print(lst+[1,2,3,4,5])\n",
        "\n",
        "### deleting\n",
        "# delete second element\n",
        "x = [lst[0]]\n",
        "print(x + lst[2:])\n",
        "print([lst[0]] + lst[2:])"
      ],
      "execution_count": 107,
      "outputs": [
        {
          "output_type": "stream",
          "text": [
            "[33, 'apple', True, 55.99999, 9999, 444]\n",
            "[33, 'apple', True, 55.99999, 9999, 444, 33, 'apple', True, 55.99999, 9999, 444, 33, 'apple', True, 55.99999, 9999, 444]\n",
            "[33, 'apple', True, 55.99999, 9999, 444, 1, 2, 3, 4, 5]\n",
            "[33, True, 55.99999, 9999, 444]\n",
            "[33, True, 55.99999, 9999, 444]\n",
            "[33, 'apple', True, 55.99999, 9999, 444]\n",
            "apple\n",
            "[33, True, 55.99999, 9999, 444]\n"
          ],
          "name": "stdout"
        }
      ]
    },
    {
      "cell_type": "code",
      "metadata": {
        "id": "rgXRRivdjVaI",
        "colab_type": "code",
        "colab": {}
      },
      "source": [
        "print(lst)\n",
        "print(lst.pop(1))\n",
        "print(lst)"
      ],
      "execution_count": 0,
      "outputs": []
    },
    {
      "cell_type": "code",
      "metadata": {
        "id": "i63yK9MymGcU",
        "colab_type": "code",
        "colab": {
          "base_uri": "https://localhost:8080/",
          "height": 35
        },
        "outputId": "d8f80947-005a-41d9-c9c7-8ae9f66ce08b"
      },
      "source": [
        "lst.remove(9999)\n",
        "print(lst)"
      ],
      "execution_count": 111,
      "outputs": [
        {
          "output_type": "stream",
          "text": [
            "[33, 'apple', True, 55.99999, 444]\n"
          ],
          "name": "stdout"
        }
      ]
    },
    {
      "cell_type": "code",
      "metadata": {
        "id": "QUqhWMKimWFN",
        "colab_type": "code",
        "colab": {
          "base_uri": "https://localhost:8080/",
          "height": 52
        },
        "outputId": "82c23803-1997-47e1-e867-495f38d73341"
      },
      "source": [
        "lst_dup = [22,33,55,1111,2222,55]\n",
        "print(lst_dup)\n",
        "\n",
        "lst_dup.remove(55)\n",
        "print(lst_dup)"
      ],
      "execution_count": 112,
      "outputs": [
        {
          "output_type": "stream",
          "text": [
            "[22, 33, 55, 1111, 2222, 55]\n",
            "[22, 33, 1111, 2222, 55]\n"
          ],
          "name": "stdout"
        }
      ]
    },
    {
      "cell_type": "markdown",
      "metadata": {
        "id": "-v7RskKCm4Cx",
        "colab_type": "text"
      },
      "source": [
        "Dictionary"
      ]
    },
    {
      "cell_type": "code",
      "metadata": {
        "id": "UtP4duBgm4Jy",
        "colab_type": "code",
        "colab": {}
      },
      "source": [
        "d = {'item1': 33, 'xyxy': 1111, 'dict1': {'innername': 44}, 'list': [2, 3.1, 'number', True]}"
      ],
      "execution_count": 0,
      "outputs": []
    },
    {
      "cell_type": "code",
      "metadata": {
        "id": "dkQCbplVm8Db",
        "colab_type": "code",
        "colab": {
          "base_uri": "https://localhost:8080/",
          "height": 52
        },
        "outputId": "e2abe20a-fa91-4ce6-b9f8-d18b812ab34d"
      },
      "source": [
        "print(d['item1'])\n",
        "del d['item1']\n",
        "print(d)"
      ],
      "execution_count": 135,
      "outputs": [
        {
          "output_type": "stream",
          "text": [
            "33\n",
            "{'xyxy': 1111, 'dict1': {'innername': 44}, 'list': [2, 3.1, 'number', True]}\n"
          ],
          "name": "stdout"
        }
      ]
    },
    {
      "cell_type": "code",
      "metadata": {
        "id": "zb2gr7kcm_Kc",
        "colab_type": "code",
        "colab": {
          "base_uri": "https://localhost:8080/",
          "height": 35
        },
        "outputId": "81a357a7-ef15-454a-8d61-f482668aa0b4"
      },
      "source": [
        "d['newkey'] = 919191919191\n",
        "print(d)"
      ],
      "execution_count": 136,
      "outputs": [
        {
          "output_type": "stream",
          "text": [
            "{'xyxy': 1111, 'dict1': {'innername': 44}, 'list': [2, 3.1, 'number', True], 'newkey': 919191919191}\n"
          ],
          "name": "stdout"
        }
      ]
    },
    {
      "cell_type": "code",
      "metadata": {
        "id": "avnrBQ8snDQj",
        "colab_type": "code",
        "colab": {
          "base_uri": "https://localhost:8080/",
          "height": 35
        },
        "outputId": "ffaf05e5-d7de-413c-de6c-582b76b64713"
      },
      "source": [
        "d['xyxy'] = 7777777\n",
        "print(d)"
      ],
      "execution_count": 137,
      "outputs": [
        {
          "output_type": "stream",
          "text": [
            "{'xyxy': 7777777, 'dict1': {'innername': 44}, 'list': [2, 3.1, 'number', True], 'newkey': 919191919191}\n"
          ],
          "name": "stdout"
        }
      ]
    },
    {
      "cell_type": "code",
      "metadata": {
        "id": "iLGGyn9foK4k",
        "colab_type": "code",
        "colab": {}
      },
      "source": [
        ""
      ],
      "execution_count": 0,
      "outputs": []
    },
    {
      "cell_type": "code",
      "metadata": {
        "id": "23L2b8rhoSTv",
        "colab_type": "code",
        "colab": {}
      },
      "source": [
        ""
      ],
      "execution_count": 0,
      "outputs": []
    },
    {
      "cell_type": "code",
      "metadata": {
        "id": "d4FtmJgsoSWW",
        "colab_type": "code",
        "colab": {}
      },
      "source": [
        ""
      ],
      "execution_count": 0,
      "outputs": []
    },
    {
      "cell_type": "markdown",
      "metadata": {
        "id": "BgQTsN4-oS4L",
        "colab_type": "text"
      },
      "source": [
        "# Exercises: Variables, Types, Containers"
      ]
    },
    {
      "cell_type": "code",
      "metadata": {
        "id": "9jjdEkBIoWlh",
        "colab_type": "code",
        "colab": {}
      },
      "source": [
        "# Create a list with all the data types in the list\n",
        "\n",
        "# Create a list with 5 elements (i=0,...,4), each element is itself a list containing a list ... (nested i times)\n",
        "\n",
        "# Create a dictionary with elements of the alphabet (string), mapped to their index in the alphabet (integer)"
      ],
      "execution_count": 0,
      "outputs": []
    },
    {
      "cell_type": "code",
      "metadata": {
        "id": "EjSG_c5rozve",
        "colab_type": "code",
        "colab": {
          "base_uri": "https://localhost:8080/",
          "height": 72
        },
        "outputId": "12dabe3b-b16f-4391-cc48-bee046e51eeb"
      },
      "source": [
        "my_list_100 = list(range(100))\n",
        "print(my_list_100)\n",
        "\n",
        "my_list_1000 = list(range(1000))\n",
        "print(my_list_1000)"
      ],
      "execution_count": 147,
      "outputs": [
        {
          "output_type": "stream",
          "text": [
            "[0, 1, 2, 3, 4, 5, 6, 7, 8, 9, 10, 11, 12, 13, 14, 15, 16, 17, 18, 19, 20, 21, 22, 23, 24, 25, 26, 27, 28, 29, 30, 31, 32, 33, 34, 35, 36, 37, 38, 39, 40, 41, 42, 43, 44, 45, 46, 47, 48, 49, 50, 51, 52, 53, 54, 55, 56, 57, 58, 59, 60, 61, 62, 63, 64, 65, 66, 67, 68, 69, 70, 71, 72, 73, 74, 75, 76, 77, 78, 79, 80, 81, 82, 83, 84, 85, 86, 87, 88, 89, 90, 91, 92, 93, 94, 95, 96, 97, 98, 99]\n",
            "[0, 1, 2, 3, 4, 5, 6, 7, 8, 9, 10, 11, 12, 13, 14, 15, 16, 17, 18, 19, 20, 21, 22, 23, 24, 25, 26, 27, 28, 29, 30, 31, 32, 33, 34, 35, 36, 37, 38, 39, 40, 41, 42, 43, 44, 45, 46, 47, 48, 49, 50, 51, 52, 53, 54, 55, 56, 57, 58, 59, 60, 61, 62, 63, 64, 65, 66, 67, 68, 69, 70, 71, 72, 73, 74, 75, 76, 77, 78, 79, 80, 81, 82, 83, 84, 85, 86, 87, 88, 89, 90, 91, 92, 93, 94, 95, 96, 97, 98, 99, 100, 101, 102, 103, 104, 105, 106, 107, 108, 109, 110, 111, 112, 113, 114, 115, 116, 117, 118, 119, 120, 121, 122, 123, 124, 125, 126, 127, 128, 129, 130, 131, 132, 133, 134, 135, 136, 137, 138, 139, 140, 141, 142, 143, 144, 145, 146, 147, 148, 149, 150, 151, 152, 153, 154, 155, 156, 157, 158, 159, 160, 161, 162, 163, 164, 165, 166, 167, 168, 169, 170, 171, 172, 173, 174, 175, 176, 177, 178, 179, 180, 181, 182, 183, 184, 185, 186, 187, 188, 189, 190, 191, 192, 193, 194, 195, 196, 197, 198, 199, 200, 201, 202, 203, 204, 205, 206, 207, 208, 209, 210, 211, 212, 213, 214, 215, 216, 217, 218, 219, 220, 221, 222, 223, 224, 225, 226, 227, 228, 229, 230, 231, 232, 233, 234, 235, 236, 237, 238, 239, 240, 241, 242, 243, 244, 245, 246, 247, 248, 249, 250, 251, 252, 253, 254, 255, 256, 257, 258, 259, 260, 261, 262, 263, 264, 265, 266, 267, 268, 269, 270, 271, 272, 273, 274, 275, 276, 277, 278, 279, 280, 281, 282, 283, 284, 285, 286, 287, 288, 289, 290, 291, 292, 293, 294, 295, 296, 297, 298, 299, 300, 301, 302, 303, 304, 305, 306, 307, 308, 309, 310, 311, 312, 313, 314, 315, 316, 317, 318, 319, 320, 321, 322, 323, 324, 325, 326, 327, 328, 329, 330, 331, 332, 333, 334, 335, 336, 337, 338, 339, 340, 341, 342, 343, 344, 345, 346, 347, 348, 349, 350, 351, 352, 353, 354, 355, 356, 357, 358, 359, 360, 361, 362, 363, 364, 365, 366, 367, 368, 369, 370, 371, 372, 373, 374, 375, 376, 377, 378, 379, 380, 381, 382, 383, 384, 385, 386, 387, 388, 389, 390, 391, 392, 393, 394, 395, 396, 397, 398, 399, 400, 401, 402, 403, 404, 405, 406, 407, 408, 409, 410, 411, 412, 413, 414, 415, 416, 417, 418, 419, 420, 421, 422, 423, 424, 425, 426, 427, 428, 429, 430, 431, 432, 433, 434, 435, 436, 437, 438, 439, 440, 441, 442, 443, 444, 445, 446, 447, 448, 449, 450, 451, 452, 453, 454, 455, 456, 457, 458, 459, 460, 461, 462, 463, 464, 465, 466, 467, 468, 469, 470, 471, 472, 473, 474, 475, 476, 477, 478, 479, 480, 481, 482, 483, 484, 485, 486, 487, 488, 489, 490, 491, 492, 493, 494, 495, 496, 497, 498, 499, 500, 501, 502, 503, 504, 505, 506, 507, 508, 509, 510, 511, 512, 513, 514, 515, 516, 517, 518, 519, 520, 521, 522, 523, 524, 525, 526, 527, 528, 529, 530, 531, 532, 533, 534, 535, 536, 537, 538, 539, 540, 541, 542, 543, 544, 545, 546, 547, 548, 549, 550, 551, 552, 553, 554, 555, 556, 557, 558, 559, 560, 561, 562, 563, 564, 565, 566, 567, 568, 569, 570, 571, 572, 573, 574, 575, 576, 577, 578, 579, 580, 581, 582, 583, 584, 585, 586, 587, 588, 589, 590, 591, 592, 593, 594, 595, 596, 597, 598, 599, 600, 601, 602, 603, 604, 605, 606, 607, 608, 609, 610, 611, 612, 613, 614, 615, 616, 617, 618, 619, 620, 621, 622, 623, 624, 625, 626, 627, 628, 629, 630, 631, 632, 633, 634, 635, 636, 637, 638, 639, 640, 641, 642, 643, 644, 645, 646, 647, 648, 649, 650, 651, 652, 653, 654, 655, 656, 657, 658, 659, 660, 661, 662, 663, 664, 665, 666, 667, 668, 669, 670, 671, 672, 673, 674, 675, 676, 677, 678, 679, 680, 681, 682, 683, 684, 685, 686, 687, 688, 689, 690, 691, 692, 693, 694, 695, 696, 697, 698, 699, 700, 701, 702, 703, 704, 705, 706, 707, 708, 709, 710, 711, 712, 713, 714, 715, 716, 717, 718, 719, 720, 721, 722, 723, 724, 725, 726, 727, 728, 729, 730, 731, 732, 733, 734, 735, 736, 737, 738, 739, 740, 741, 742, 743, 744, 745, 746, 747, 748, 749, 750, 751, 752, 753, 754, 755, 756, 757, 758, 759, 760, 761, 762, 763, 764, 765, 766, 767, 768, 769, 770, 771, 772, 773, 774, 775, 776, 777, 778, 779, 780, 781, 782, 783, 784, 785, 786, 787, 788, 789, 790, 791, 792, 793, 794, 795, 796, 797, 798, 799, 800, 801, 802, 803, 804, 805, 806, 807, 808, 809, 810, 811, 812, 813, 814, 815, 816, 817, 818, 819, 820, 821, 822, 823, 824, 825, 826, 827, 828, 829, 830, 831, 832, 833, 834, 835, 836, 837, 838, 839, 840, 841, 842, 843, 844, 845, 846, 847, 848, 849, 850, 851, 852, 853, 854, 855, 856, 857, 858, 859, 860, 861, 862, 863, 864, 865, 866, 867, 868, 869, 870, 871, 872, 873, 874, 875, 876, 877, 878, 879, 880, 881, 882, 883, 884, 885, 886, 887, 888, 889, 890, 891, 892, 893, 894, 895, 896, 897, 898, 899, 900, 901, 902, 903, 904, 905, 906, 907, 908, 909, 910, 911, 912, 913, 914, 915, 916, 917, 918, 919, 920, 921, 922, 923, 924, 925, 926, 927, 928, 929, 930, 931, 932, 933, 934, 935, 936, 937, 938, 939, 940, 941, 942, 943, 944, 945, 946, 947, 948, 949, 950, 951, 952, 953, 954, 955, 956, 957, 958, 959, 960, 961, 962, 963, 964, 965, 966, 967, 968, 969, 970, 971, 972, 973, 974, 975, 976, 977, 978, 979, 980, 981, 982, 983, 984, 985, 986, 987, 988, 989, 990, 991, 992, 993, 994, 995, 996, 997, 998, 999]\n"
          ],
          "name": "stdout"
        }
      ]
    },
    {
      "cell_type": "code",
      "metadata": {
        "id": "oV7wHzfEphOh",
        "colab_type": "code",
        "colab": {}
      },
      "source": [
        "### assign the following to variables, and print the variables:\n",
        "\n",
        "# (a) numbers at indices 45-65\n",
        "# (b) numbers at indices 23-43, 90-98\n",
        "# (c) obtain the sum of all the numbers (in 1 line)\n",
        "# (d) split the list into 10 lists"
      ],
      "execution_count": 0,
      "outputs": []
    },
    {
      "cell_type": "code",
      "metadata": {
        "id": "vYaIlpe6qKKr",
        "colab_type": "code",
        "colab": {}
      },
      "source": [
        "my_string_ap = 'abcdefghijklmnop'\n",
        "\n",
        "my_string_az = 'abcdefghijklmnopqrstuvwxyz'"
      ],
      "execution_count": 0,
      "outputs": []
    },
    {
      "cell_type": "code",
      "metadata": {
        "id": "HE2do8FZqOAi",
        "colab_type": "code",
        "colab": {}
      },
      "source": [
        "### assign the following to variables, and print the variables:\n",
        "\n",
        "# (a) first 10 characters of the string\n",
        "# (b) f to m\n",
        "# (c) split the string into individual characters, that now are in a list as individual elements\n",
        "# (d) split the string in two halves, without using the known length of the string (i.e. your line of code should work for any given string)"
      ],
      "execution_count": 0,
      "outputs": []
    },
    {
      "cell_type": "code",
      "metadata": {
        "id": "N2lM0odjqns7",
        "colab_type": "code",
        "colab": {
          "base_uri": "https://localhost:8080/",
          "height": 131
        },
        "outputId": "70c6e52f-5769-41c9-b399-c863c76f4301"
      },
      "source": [
        "### Research \"defaultdict\"\n",
        "\n",
        "# Create a dictionary, where I can look for ANY element imaginable (any key), and if you never entered that key, it should return value of 'not found', otherwise, it should return the value you purposedly assigned to that key\n",
        "\n",
        "d = # TODO: some dictionary\n",
        "\n",
        "# For example: I should be able to do\n",
        "d['hey'] = 1000\n",
        "print(d['hello']) # should give me 'not found'\n",
        "print(d['ahjfhjkjhfkajhkdfjhkqj']) # should give me 'not found'\n",
        "print(d['hey']) # should give me 1000"
      ],
      "execution_count": 149,
      "outputs": [
        {
          "output_type": "error",
          "ename": "SyntaxError",
          "evalue": "ignored",
          "traceback": [
            "\u001b[0;36m  File \u001b[0;32m\"<ipython-input-149-d111f93c11f4>\"\u001b[0;36m, line \u001b[0;32m5\u001b[0m\n\u001b[0;31m    d = # TODO: some dictionary\u001b[0m\n\u001b[0m                               ^\u001b[0m\n\u001b[0;31mSyntaxError\u001b[0m\u001b[0;31m:\u001b[0m invalid syntax\n"
          ]
        }
      ]
    },
    {
      "cell_type": "code",
      "metadata": {
        "id": "swrKtLQMsLKX",
        "colab_type": "code",
        "colab": {}
      },
      "source": [
        ""
      ],
      "execution_count": 0,
      "outputs": []
    }
  ]
}